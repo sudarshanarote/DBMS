{
  "nbformat": 4,
  "nbformat_minor": 0,
  "metadata": {
    "colab": {
      "provenance": [],
      "include_colab_link": true
    },
    "kernelspec": {
      "name": "python3",
      "display_name": "Python 3"
    },
    "language_info": {
      "name": "python"
    }
  },
  "cells": [
    {
      "cell_type": "markdown",
      "metadata": {
        "id": "view-in-github",
        "colab_type": "text"
      },
      "source": [
        "<a href=\"https://colab.research.google.com/github/sudarshanarote/DBMS/blob/master/BernoulliNB_bayes.ipynb\" target=\"_parent\"><img src=\"https://colab.research.google.com/assets/colab-badge.svg\" alt=\"Open In Colab\"/></a>"
      ]
    },
    {
      "cell_type": "markdown",
      "source": [
        "\n",
        "When classifying a test document, the Bernoulli model uses binary occurrence information, ignoring the number of occurrences, whereas the multinomial model keeps track of multiple occurrences. As a result, the Bernoulli model typically makes many mistakes when classifying long documents. **BernoulliNB is designed for binary/boolean features**"
      ],
      "metadata": {
        "id": "WTJR3XzDRcy6"
      }
    },
    {
      "cell_type": "code",
      "source": [
        "from google.colab import drive\n",
        "drive.mount('/content/drive')\n",
        "\n",
        "%cd /content/drive/My Drive/"
      ],
      "metadata": {
        "colab": {
          "base_uri": "https://localhost:8080/"
        },
        "id": "pF6KonA9Uxm6",
        "outputId": "2018742c-8788-4d32-f54e-c54fd2b11810"
      },
      "execution_count": null,
      "outputs": [
        {
          "output_type": "stream",
          "name": "stdout",
          "text": [
            "Drive already mounted at /content/drive; to attempt to forcibly remount, call drive.mount(\"/content/drive\", force_remount=True).\n",
            "/content/drive/My Drive\n"
          ]
        }
      ]
    },
    {
      "cell_type": "code",
      "source": [
        "import numpy as np\n",
        "import pandas as pd\n",
        "df = pd.read_csv ('/content/drive/My Drive/ACTS Practical/iris.csv', header=None)\n",
        "df.describe()"
      ],
      "metadata": {
        "colab": {
          "base_uri": "https://localhost:8080/",
          "height": 300
        },
        "id": "mdOFFaxfU0Fb",
        "outputId": "fecde3d7-7d72-4a52-c120-ddd52372aa08"
      },
      "execution_count": null,
      "outputs": [
        {
          "output_type": "execute_result",
          "data": {
            "text/plain": [
              "                0           1           2           3\n",
              "count  150.000000  150.000000  150.000000  150.000000\n",
              "mean     5.843333    3.054000    3.758667    1.198667\n",
              "std      0.828066    0.433594    1.764420    0.763161\n",
              "min      4.300000    2.000000    1.000000    0.100000\n",
              "25%      5.100000    2.800000    1.600000    0.300000\n",
              "50%      5.800000    3.000000    4.350000    1.300000\n",
              "75%      6.400000    3.300000    5.100000    1.800000\n",
              "max      7.900000    4.400000    6.900000    2.500000"
            ],
            "text/html": [
              "\n",
              "  <div id=\"df-22ad35f0-93a9-4f33-8e99-061a1f104c4f\">\n",
              "    <div class=\"colab-df-container\">\n",
              "      <div>\n",
              "<style scoped>\n",
              "    .dataframe tbody tr th:only-of-type {\n",
              "        vertical-align: middle;\n",
              "    }\n",
              "\n",
              "    .dataframe tbody tr th {\n",
              "        vertical-align: top;\n",
              "    }\n",
              "\n",
              "    .dataframe thead th {\n",
              "        text-align: right;\n",
              "    }\n",
              "</style>\n",
              "<table border=\"1\" class=\"dataframe\">\n",
              "  <thead>\n",
              "    <tr style=\"text-align: right;\">\n",
              "      <th></th>\n",
              "      <th>0</th>\n",
              "      <th>1</th>\n",
              "      <th>2</th>\n",
              "      <th>3</th>\n",
              "    </tr>\n",
              "  </thead>\n",
              "  <tbody>\n",
              "    <tr>\n",
              "      <th>count</th>\n",
              "      <td>150.000000</td>\n",
              "      <td>150.000000</td>\n",
              "      <td>150.000000</td>\n",
              "      <td>150.000000</td>\n",
              "    </tr>\n",
              "    <tr>\n",
              "      <th>mean</th>\n",
              "      <td>5.843333</td>\n",
              "      <td>3.054000</td>\n",
              "      <td>3.758667</td>\n",
              "      <td>1.198667</td>\n",
              "    </tr>\n",
              "    <tr>\n",
              "      <th>std</th>\n",
              "      <td>0.828066</td>\n",
              "      <td>0.433594</td>\n",
              "      <td>1.764420</td>\n",
              "      <td>0.763161</td>\n",
              "    </tr>\n",
              "    <tr>\n",
              "      <th>min</th>\n",
              "      <td>4.300000</td>\n",
              "      <td>2.000000</td>\n",
              "      <td>1.000000</td>\n",
              "      <td>0.100000</td>\n",
              "    </tr>\n",
              "    <tr>\n",
              "      <th>25%</th>\n",
              "      <td>5.100000</td>\n",
              "      <td>2.800000</td>\n",
              "      <td>1.600000</td>\n",
              "      <td>0.300000</td>\n",
              "    </tr>\n",
              "    <tr>\n",
              "      <th>50%</th>\n",
              "      <td>5.800000</td>\n",
              "      <td>3.000000</td>\n",
              "      <td>4.350000</td>\n",
              "      <td>1.300000</td>\n",
              "    </tr>\n",
              "    <tr>\n",
              "      <th>75%</th>\n",
              "      <td>6.400000</td>\n",
              "      <td>3.300000</td>\n",
              "      <td>5.100000</td>\n",
              "      <td>1.800000</td>\n",
              "    </tr>\n",
              "    <tr>\n",
              "      <th>max</th>\n",
              "      <td>7.900000</td>\n",
              "      <td>4.400000</td>\n",
              "      <td>6.900000</td>\n",
              "      <td>2.500000</td>\n",
              "    </tr>\n",
              "  </tbody>\n",
              "</table>\n",
              "</div>\n",
              "      <button class=\"colab-df-convert\" onclick=\"convertToInteractive('df-22ad35f0-93a9-4f33-8e99-061a1f104c4f')\"\n",
              "              title=\"Convert this dataframe to an interactive table.\"\n",
              "              style=\"display:none;\">\n",
              "        \n",
              "  <svg xmlns=\"http://www.w3.org/2000/svg\" height=\"24px\"viewBox=\"0 0 24 24\"\n",
              "       width=\"24px\">\n",
              "    <path d=\"M0 0h24v24H0V0z\" fill=\"none\"/>\n",
              "    <path d=\"M18.56 5.44l.94 2.06.94-2.06 2.06-.94-2.06-.94-.94-2.06-.94 2.06-2.06.94zm-11 1L8.5 8.5l.94-2.06 2.06-.94-2.06-.94L8.5 2.5l-.94 2.06-2.06.94zm10 10l.94 2.06.94-2.06 2.06-.94-2.06-.94-.94-2.06-.94 2.06-2.06.94z\"/><path d=\"M17.41 7.96l-1.37-1.37c-.4-.4-.92-.59-1.43-.59-.52 0-1.04.2-1.43.59L10.3 9.45l-7.72 7.72c-.78.78-.78 2.05 0 2.83L4 21.41c.39.39.9.59 1.41.59.51 0 1.02-.2 1.41-.59l7.78-7.78 2.81-2.81c.8-.78.8-2.07 0-2.86zM5.41 20L4 18.59l7.72-7.72 1.47 1.35L5.41 20z\"/>\n",
              "  </svg>\n",
              "      </button>\n",
              "      \n",
              "  <style>\n",
              "    .colab-df-container {\n",
              "      display:flex;\n",
              "      flex-wrap:wrap;\n",
              "      gap: 12px;\n",
              "    }\n",
              "\n",
              "    .colab-df-convert {\n",
              "      background-color: #E8F0FE;\n",
              "      border: none;\n",
              "      border-radius: 50%;\n",
              "      cursor: pointer;\n",
              "      display: none;\n",
              "      fill: #1967D2;\n",
              "      height: 32px;\n",
              "      padding: 0 0 0 0;\n",
              "      width: 32px;\n",
              "    }\n",
              "\n",
              "    .colab-df-convert:hover {\n",
              "      background-color: #E2EBFA;\n",
              "      box-shadow: 0px 1px 2px rgba(60, 64, 67, 0.3), 0px 1px 3px 1px rgba(60, 64, 67, 0.15);\n",
              "      fill: #174EA6;\n",
              "    }\n",
              "\n",
              "    [theme=dark] .colab-df-convert {\n",
              "      background-color: #3B4455;\n",
              "      fill: #D2E3FC;\n",
              "    }\n",
              "\n",
              "    [theme=dark] .colab-df-convert:hover {\n",
              "      background-color: #434B5C;\n",
              "      box-shadow: 0px 1px 3px 1px rgba(0, 0, 0, 0.15);\n",
              "      filter: drop-shadow(0px 1px 2px rgba(0, 0, 0, 0.3));\n",
              "      fill: #FFFFFF;\n",
              "    }\n",
              "  </style>\n",
              "\n",
              "      <script>\n",
              "        const buttonEl =\n",
              "          document.querySelector('#df-22ad35f0-93a9-4f33-8e99-061a1f104c4f button.colab-df-convert');\n",
              "        buttonEl.style.display =\n",
              "          google.colab.kernel.accessAllowed ? 'block' : 'none';\n",
              "\n",
              "        async function convertToInteractive(key) {\n",
              "          const element = document.querySelector('#df-22ad35f0-93a9-4f33-8e99-061a1f104c4f');\n",
              "          const dataTable =\n",
              "            await google.colab.kernel.invokeFunction('convertToInteractive',\n",
              "                                                     [key], {});\n",
              "          if (!dataTable) return;\n",
              "\n",
              "          const docLinkHtml = 'Like what you see? Visit the ' +\n",
              "            '<a target=\"_blank\" href=https://colab.research.google.com/notebooks/data_table.ipynb>data table notebook</a>'\n",
              "            + ' to learn more about interactive tables.';\n",
              "          element.innerHTML = '';\n",
              "          dataTable['output_type'] = 'display_data';\n",
              "          await google.colab.output.renderOutput(dataTable, element);\n",
              "          const docLink = document.createElement('div');\n",
              "          docLink.innerHTML = docLinkHtml;\n",
              "          element.appendChild(docLink);\n",
              "        }\n",
              "      </script>\n",
              "    </div>\n",
              "  </div>\n",
              "  "
            ]
          },
          "metadata": {},
          "execution_count": 28
        }
      ]
    },
    {
      "cell_type": "code",
      "source": [
        "df"
      ],
      "metadata": {
        "colab": {
          "base_uri": "https://localhost:8080/",
          "height": 424
        },
        "id": "P3cBSbiieYUt",
        "outputId": "1cf70645-731d-4afb-a4f8-64030544d25e"
      },
      "execution_count": null,
      "outputs": [
        {
          "output_type": "execute_result",
          "data": {
            "text/plain": [
              "       0    1    2    3               4\n",
              "0    5.1  3.5  1.4  0.2     Iris-setosa\n",
              "1    4.9  3.0  1.4  0.2     Iris-setosa\n",
              "2    4.7  3.2  1.3  0.2     Iris-setosa\n",
              "3    4.6  3.1  1.5  0.2     Iris-setosa\n",
              "4    5.0  3.6  1.4  0.2     Iris-setosa\n",
              "..   ...  ...  ...  ...             ...\n",
              "145  6.7  3.0  5.2  2.3  Iris-virginica\n",
              "146  6.3  2.5  5.0  1.9  Iris-virginica\n",
              "147  6.5  3.0  5.2  2.0  Iris-virginica\n",
              "148  6.2  3.4  5.4  2.3  Iris-virginica\n",
              "149  5.9  3.0  5.1  1.8  Iris-virginica\n",
              "\n",
              "[150 rows x 5 columns]"
            ],
            "text/html": [
              "\n",
              "  <div id=\"df-79723a8f-6cb7-4953-9cde-af07899aad8c\">\n",
              "    <div class=\"colab-df-container\">\n",
              "      <div>\n",
              "<style scoped>\n",
              "    .dataframe tbody tr th:only-of-type {\n",
              "        vertical-align: middle;\n",
              "    }\n",
              "\n",
              "    .dataframe tbody tr th {\n",
              "        vertical-align: top;\n",
              "    }\n",
              "\n",
              "    .dataframe thead th {\n",
              "        text-align: right;\n",
              "    }\n",
              "</style>\n",
              "<table border=\"1\" class=\"dataframe\">\n",
              "  <thead>\n",
              "    <tr style=\"text-align: right;\">\n",
              "      <th></th>\n",
              "      <th>0</th>\n",
              "      <th>1</th>\n",
              "      <th>2</th>\n",
              "      <th>3</th>\n",
              "      <th>4</th>\n",
              "    </tr>\n",
              "  </thead>\n",
              "  <tbody>\n",
              "    <tr>\n",
              "      <th>0</th>\n",
              "      <td>5.1</td>\n",
              "      <td>3.5</td>\n",
              "      <td>1.4</td>\n",
              "      <td>0.2</td>\n",
              "      <td>Iris-setosa</td>\n",
              "    </tr>\n",
              "    <tr>\n",
              "      <th>1</th>\n",
              "      <td>4.9</td>\n",
              "      <td>3.0</td>\n",
              "      <td>1.4</td>\n",
              "      <td>0.2</td>\n",
              "      <td>Iris-setosa</td>\n",
              "    </tr>\n",
              "    <tr>\n",
              "      <th>2</th>\n",
              "      <td>4.7</td>\n",
              "      <td>3.2</td>\n",
              "      <td>1.3</td>\n",
              "      <td>0.2</td>\n",
              "      <td>Iris-setosa</td>\n",
              "    </tr>\n",
              "    <tr>\n",
              "      <th>3</th>\n",
              "      <td>4.6</td>\n",
              "      <td>3.1</td>\n",
              "      <td>1.5</td>\n",
              "      <td>0.2</td>\n",
              "      <td>Iris-setosa</td>\n",
              "    </tr>\n",
              "    <tr>\n",
              "      <th>4</th>\n",
              "      <td>5.0</td>\n",
              "      <td>3.6</td>\n",
              "      <td>1.4</td>\n",
              "      <td>0.2</td>\n",
              "      <td>Iris-setosa</td>\n",
              "    </tr>\n",
              "    <tr>\n",
              "      <th>...</th>\n",
              "      <td>...</td>\n",
              "      <td>...</td>\n",
              "      <td>...</td>\n",
              "      <td>...</td>\n",
              "      <td>...</td>\n",
              "    </tr>\n",
              "    <tr>\n",
              "      <th>145</th>\n",
              "      <td>6.7</td>\n",
              "      <td>3.0</td>\n",
              "      <td>5.2</td>\n",
              "      <td>2.3</td>\n",
              "      <td>Iris-virginica</td>\n",
              "    </tr>\n",
              "    <tr>\n",
              "      <th>146</th>\n",
              "      <td>6.3</td>\n",
              "      <td>2.5</td>\n",
              "      <td>5.0</td>\n",
              "      <td>1.9</td>\n",
              "      <td>Iris-virginica</td>\n",
              "    </tr>\n",
              "    <tr>\n",
              "      <th>147</th>\n",
              "      <td>6.5</td>\n",
              "      <td>3.0</td>\n",
              "      <td>5.2</td>\n",
              "      <td>2.0</td>\n",
              "      <td>Iris-virginica</td>\n",
              "    </tr>\n",
              "    <tr>\n",
              "      <th>148</th>\n",
              "      <td>6.2</td>\n",
              "      <td>3.4</td>\n",
              "      <td>5.4</td>\n",
              "      <td>2.3</td>\n",
              "      <td>Iris-virginica</td>\n",
              "    </tr>\n",
              "    <tr>\n",
              "      <th>149</th>\n",
              "      <td>5.9</td>\n",
              "      <td>3.0</td>\n",
              "      <td>5.1</td>\n",
              "      <td>1.8</td>\n",
              "      <td>Iris-virginica</td>\n",
              "    </tr>\n",
              "  </tbody>\n",
              "</table>\n",
              "<p>150 rows × 5 columns</p>\n",
              "</div>\n",
              "      <button class=\"colab-df-convert\" onclick=\"convertToInteractive('df-79723a8f-6cb7-4953-9cde-af07899aad8c')\"\n",
              "              title=\"Convert this dataframe to an interactive table.\"\n",
              "              style=\"display:none;\">\n",
              "        \n",
              "  <svg xmlns=\"http://www.w3.org/2000/svg\" height=\"24px\"viewBox=\"0 0 24 24\"\n",
              "       width=\"24px\">\n",
              "    <path d=\"M0 0h24v24H0V0z\" fill=\"none\"/>\n",
              "    <path d=\"M18.56 5.44l.94 2.06.94-2.06 2.06-.94-2.06-.94-.94-2.06-.94 2.06-2.06.94zm-11 1L8.5 8.5l.94-2.06 2.06-.94-2.06-.94L8.5 2.5l-.94 2.06-2.06.94zm10 10l.94 2.06.94-2.06 2.06-.94-2.06-.94-.94-2.06-.94 2.06-2.06.94z\"/><path d=\"M17.41 7.96l-1.37-1.37c-.4-.4-.92-.59-1.43-.59-.52 0-1.04.2-1.43.59L10.3 9.45l-7.72 7.72c-.78.78-.78 2.05 0 2.83L4 21.41c.39.39.9.59 1.41.59.51 0 1.02-.2 1.41-.59l7.78-7.78 2.81-2.81c.8-.78.8-2.07 0-2.86zM5.41 20L4 18.59l7.72-7.72 1.47 1.35L5.41 20z\"/>\n",
              "  </svg>\n",
              "      </button>\n",
              "      \n",
              "  <style>\n",
              "    .colab-df-container {\n",
              "      display:flex;\n",
              "      flex-wrap:wrap;\n",
              "      gap: 12px;\n",
              "    }\n",
              "\n",
              "    .colab-df-convert {\n",
              "      background-color: #E8F0FE;\n",
              "      border: none;\n",
              "      border-radius: 50%;\n",
              "      cursor: pointer;\n",
              "      display: none;\n",
              "      fill: #1967D2;\n",
              "      height: 32px;\n",
              "      padding: 0 0 0 0;\n",
              "      width: 32px;\n",
              "    }\n",
              "\n",
              "    .colab-df-convert:hover {\n",
              "      background-color: #E2EBFA;\n",
              "      box-shadow: 0px 1px 2px rgba(60, 64, 67, 0.3), 0px 1px 3px 1px rgba(60, 64, 67, 0.15);\n",
              "      fill: #174EA6;\n",
              "    }\n",
              "\n",
              "    [theme=dark] .colab-df-convert {\n",
              "      background-color: #3B4455;\n",
              "      fill: #D2E3FC;\n",
              "    }\n",
              "\n",
              "    [theme=dark] .colab-df-convert:hover {\n",
              "      background-color: #434B5C;\n",
              "      box-shadow: 0px 1px 3px 1px rgba(0, 0, 0, 0.15);\n",
              "      filter: drop-shadow(0px 1px 2px rgba(0, 0, 0, 0.3));\n",
              "      fill: #FFFFFF;\n",
              "    }\n",
              "  </style>\n",
              "\n",
              "      <script>\n",
              "        const buttonEl =\n",
              "          document.querySelector('#df-79723a8f-6cb7-4953-9cde-af07899aad8c button.colab-df-convert');\n",
              "        buttonEl.style.display =\n",
              "          google.colab.kernel.accessAllowed ? 'block' : 'none';\n",
              "\n",
              "        async function convertToInteractive(key) {\n",
              "          const element = document.querySelector('#df-79723a8f-6cb7-4953-9cde-af07899aad8c');\n",
              "          const dataTable =\n",
              "            await google.colab.kernel.invokeFunction('convertToInteractive',\n",
              "                                                     [key], {});\n",
              "          if (!dataTable) return;\n",
              "\n",
              "          const docLinkHtml = 'Like what you see? Visit the ' +\n",
              "            '<a target=\"_blank\" href=https://colab.research.google.com/notebooks/data_table.ipynb>data table notebook</a>'\n",
              "            + ' to learn more about interactive tables.';\n",
              "          element.innerHTML = '';\n",
              "          dataTable['output_type'] = 'display_data';\n",
              "          await google.colab.output.renderOutput(dataTable, element);\n",
              "          const docLink = document.createElement('div');\n",
              "          docLink.innerHTML = docLinkHtml;\n",
              "          element.appendChild(docLink);\n",
              "        }\n",
              "      </script>\n",
              "    </div>\n",
              "  </div>\n",
              "  "
            ]
          },
          "metadata": {},
          "execution_count": 29
        }
      ]
    },
    {
      "cell_type": "code",
      "source": [
        "# This function will find the mean of the given list\n",
        "def find_mean(ls:list):\n",
        "    # check if the list has some values\n",
        "    if ls:\n",
        "        # return the mean(sum_of_list_values/count_of_values_in_list)\n",
        "        return(sum(ls)/len(ls))\n",
        "    else:\n",
        "        return 0\n",
        "print(\"Mean for sepal_length: \",find_mean(list(df[0])))\n",
        "print(\"Mean for sepal_width: \",find_mean(list(df[1])))\n",
        "print(\"Mean for petal_length: \",find_mean(list(df[2])))\n",
        "print(\"Mean for petal_width: \",find_mean(list(df[3])))"
      ],
      "metadata": {
        "colab": {
          "base_uri": "https://localhost:8080/"
        },
        "id": "LG4mUa1yU478",
        "outputId": "065c1417-bf57-449e-d056-7939f8f2a2a3"
      },
      "execution_count": null,
      "outputs": [
        {
          "output_type": "stream",
          "name": "stdout",
          "text": [
            "Mean for sepal_length:  5.843333333333335\n",
            "Mean for sepal_width:  3.0540000000000007\n",
            "Mean for petal_length:  3.7586666666666693\n",
            "Mean for petal_width:  1.1986666666666672\n"
          ]
        }
      ]
    },
    {
      "cell_type": "code",
      "source": [
        "# This function will calculate variance of the given list of data-points.\n",
        "# 1. calculate mean\n",
        "# 2. find deviation from mean\n",
        "# 3. square each deviation from mean\n",
        "# 4. Find the sum of squares\n",
        "# 5. Divide sum of squares by N-1(for sample data-points) or N(for population data-points)\n",
        "\n",
        "def calculate_variance(ls:list):\n",
        "    # check mean of the list of values\n",
        "    mean = find_mean(ls)\n",
        "    if mean!=0:\n",
        "        return sum((i - mean) ** 2 for i in ls) / len(ls)\n",
        "    else:\n",
        "        return 0\n",
        "    \n",
        "print(\"Variance for sepal_length: \",calculate_variance(list(df[0])))\n",
        "print(\"Variance for sepal_width: \",calculate_variance(list(df[1])))\n",
        "print(\"Variance for petal_length: \",calculate_variance(list(df[2])))\n",
        "print(\"Variance for petal_width: \",calculate_variance(list(df[3])))"
      ],
      "metadata": {
        "colab": {
          "base_uri": "https://localhost:8080/"
        },
        "id": "zVFLNBFDJ68Z",
        "outputId": "1ecc452b-bee8-4512-cd41-f793396eb001"
      },
      "execution_count": null,
      "outputs": [
        {
          "output_type": "stream",
          "name": "stdout",
          "text": [
            "Variance for sepal_length:  0.6811222222222222\n",
            "Variance for sepal_width:  0.1867506666666667\n",
            "Variance for petal_length:  3.0924248888888854\n",
            "Variance for petal_width:  0.5785315555555559\n"
          ]
        }
      ]
    },
    {
      "cell_type": "code",
      "source": [
        "# This method will calculate the standard deviation\n",
        "def calculate_standard_deviation(ls:list):\n",
        "    return calculate_variance(ls)**(1/2)\n",
        "\n",
        "print(\"Standard Devation for sepal_length: \",calculate_standard_deviation(list(df[0])))\n",
        "print(\"Standard Devation for sepal_width: \",calculate_standard_deviation(list(df[1])))\n",
        "print(\"Standard Devation for petal_length: \",calculate_standard_deviation(list(df[2])))\n",
        "print(\"Standard Devation for petal_width: \",calculate_standard_deviation(list(df[3])))"
      ],
      "metadata": {
        "colab": {
          "base_uri": "https://localhost:8080/"
        },
        "id": "RsGfraTYKBW_",
        "outputId": "fe86ae5f-29aa-4221-d188-0f83656a1909"
      },
      "execution_count": null,
      "outputs": [
        {
          "output_type": "stream",
          "name": "stdout",
          "text": [
            "Standard Devation for sepal_length:  0.8253012917851409\n",
            "Standard Devation for sepal_width:  0.4321465800705435\n",
            "Standard Devation for petal_length:  1.7585291834055201\n",
            "Standard Devation for petal_width:  0.760612618588172\n"
          ]
        }
      ]
    },
    {
      "cell_type": "code",
      "source": [
        "import seaborn as sns\n",
        "import matplotlib.pyplot as plt\n",
        "\n",
        "sns.heatmap(df.corr(), annot = True)\n",
        "\n",
        "plt.show()"
      ],
      "metadata": {
        "colab": {
          "base_uri": "https://localhost:8080/",
          "height": 269
        },
        "id": "iHiSKdjDKOIf",
        "outputId": "c7d2032a-1bfa-4dde-dc1f-342319c1bc79"
      },
      "execution_count": null,
      "outputs": [
        {
          "output_type": "display_data",
          "data": {
            "text/plain": [
              "<Figure size 432x288 with 2 Axes>"
            ],
            "image/png": "[encoded data removed]"
          },
          "metadata": {
            "needs_background": "light"
          }
        }
      ]
    },
    {
      "cell_type": "code",
      "source": [
        "from math import sqrt\n",
        "import seaborn as sns\n",
        "\n",
        "# Statistics\n",
        "from statistics import median,mean, stdev\n",
        "from scipy import signal\n",
        "\n",
        "import scipy.stats as stats\n",
        "from scipy.stats import binom, poisson, bernoulli, norm"
      ],
      "metadata": {
        "id": "78J-SnqWKiZg"
      },
      "execution_count": null,
      "outputs": []
    },
    {
      "cell_type": "markdown",
      "source": [
        "**Normal Distribution**"
      ],
      "metadata": {
        "id": "Ca_apGBuLszY"
      }
    },
    {
      "cell_type": "code",
      "source": [
        "mean_sepal_length = mean(df[0])\n",
        "sd_sepal_length = stdev(df[0])\n",
        "normal_df = norm.pdf(df[0],  loc = mean_sepal_length, scale = sd_sepal_length)\n",
        "plt.plot(df[0], normal_df, 'bs')\n",
        "plt.show()"
      ],
      "metadata": {
        "colab": {
          "base_uri": "https://localhost:8080/",
          "height": 268
        },
        "id": "ftLh44cHKj3P",
        "outputId": "38b51c44-42fc-4905-d2d2-1cce4a25ab42"
      },
      "execution_count": null,
      "outputs": [
        {
          "output_type": "display_data",
          "data": {
            "text/plain": [
              "<Figure size 432x288 with 1 Axes>"
            ],
            "image/png": "[encoded data removed]"
          },
          "metadata": {
            "needs_background": "light"
          }
        }
      ]
    },
    {
      "cell_type": "code",
      "source": [
        "normal_df"
      ],
      "metadata": {
        "colab": {
          "base_uri": "https://localhost:8080/"
        },
        "id": "zXfmyRJ7OeF8",
        "outputId": "a73690ab-7ef9-4bbc-d06e-03fef828e378"
      },
      "execution_count": null,
      "outputs": [
        {
          "output_type": "execute_result",
          "data": {
            "text/plain": [
              "array([0.32200588, 0.25178867, 0.18572654, 0.15606028, 0.28682488,\n",
              "       0.41744843, 0.15606028, 0.28682488, 0.10546982, 0.25178867,\n",
              "       0.41744843, 0.21783211, 0.21783211, 0.08482926, 0.48111665,\n",
              "       0.47461229, 0.41744843, 0.32200588, 0.47461229, 0.32200588,\n",
              "       0.41744843, 0.32200588, 0.15606028, 0.32200588, 0.21783211,\n",
              "       0.28682488, 0.28682488, 0.35626826, 0.35626826, 0.18572654,\n",
              "       0.21783211, 0.41744843, 0.35626826, 0.44209459, 0.25178867,\n",
              "       0.28682488, 0.44209459, 0.25178867, 0.10546982, 0.32200588,\n",
              "       0.28682488, 0.1292341 , 0.10546982, 0.28682488, 0.32200588,\n",
              "       0.21783211, 0.32200588, 0.15606028, 0.38846939, 0.28682488,\n",
              "       0.18161945, 0.38433694, 0.21342967, 0.44209459, 0.35179363,\n",
              "       0.47461229, 0.41381158, 0.25178867, 0.3173439 , 0.35626826,\n",
              "       0.28682488, 0.48064911, 0.47322998, 0.45917972, 0.46141734,\n",
              "       0.28212312, 0.46141734, 0.48111665, 0.43909601, 0.46141734,\n",
              "       0.48064911, 0.45917972, 0.41381158, 0.45917972, 0.38433694,\n",
              "       0.3173439 , 0.24718013, 0.28212312, 0.47322998, 0.47461229,\n",
              "       0.44209459, 0.44209459, 0.48111665, 0.47322998, 0.41744843,\n",
              "       0.47322998, 0.28212312, 0.41381158, 0.46141734, 0.44209459,\n",
              "       0.44209459, 0.45917972, 0.48111665, 0.28682488, 0.46141734,\n",
              "       0.47461229, 0.47461229, 0.43909601, 0.32200588, 0.47461229,\n",
              "       0.41381158, 0.48111665, 0.15231276, 0.41381158, 0.35179363,\n",
              "       0.05076929, 0.25178867, 0.1025376 , 0.28212312, 0.12588574,\n",
              "       0.35179363, 0.38433694, 0.24718013, 0.47461229, 0.48111665,\n",
              "       0.38433694, 0.35179363, 0.03900974, 0.03900974, 0.47322998,\n",
              "       0.21342967, 0.46141734, 0.03900974, 0.41381158, 0.28212312,\n",
              "       0.12588574, 0.43909601, 0.45917972, 0.38433694, 0.12588574,\n",
              "       0.08231067, 0.02204531, 0.38433694, 0.41381158, 0.45917972,\n",
              "       0.03900974, 0.41381158, 0.38433694, 0.47322998, 0.21342967,\n",
              "       0.28212312, 0.21342967, 0.48111665, 0.24718013, 0.28212312,\n",
              "       0.28212312, 0.41381158, 0.35179363, 0.43909601, 0.48064911])"
            ]
          },
          "metadata": {},
          "execution_count": 15
        }
      ]
    },
    {
      "cell_type": "code",
      "source": [
        "norm.pdf??\n"
      ],
      "metadata": {
        "id": "8-3uPlZdNoKN"
      },
      "execution_count": null,
      "outputs": []
    },
    {
      "cell_type": "code",
      "source": [
        "# Normal Distribution as a Bell Curve\n",
        "plt.figure(figsize=(18,5))\n",
        "sns.displot(df)\n",
        "plt.title('Distribution', fontsize='xx-large')"
      ],
      "metadata": {
        "colab": {
          "base_uri": "https://localhost:8080/",
          "height": 424
        },
        "id": "liEHIIcIK-_Y",
        "outputId": "d6c30307-0a18-4a02-929a-f7e46f183695"
      },
      "execution_count": null,
      "outputs": [
        {
          "output_type": "execute_result",
          "data": {
            "text/plain": [
              "Text(0.5, 1.0, 'Distribution')"
            ]
          },
          "metadata": {},
          "execution_count": 16
        },
        {
          "output_type": "display_data",
          "data": {
            "text/plain": [
              "<Figure size 1296x360 with 0 Axes>"
            ]
          },
          "metadata": {}
        },
        {
          "output_type": "display_data",
          "data": {
            "text/plain": [
              "<Figure size 402.375x360 with 1 Axes>"
            ],
            "image/png": "[encoded data removed]"
          },
          "metadata": {
            "needs_background": "light"
          }
        }
      ]
    },
    {
      "cell_type": "code",
      "source": [
        "sns.displot??"
      ],
      "metadata": {
        "id": "-69r8EMHPuY9"
      },
      "execution_count": null,
      "outputs": []
    },
    {
      "cell_type": "code",
      "source": [
        "min_sepal_length = df[0].min()\n",
        "max_sepal_length = df[0].max()\n",
        "count_sepal_length = df[0].count()\n",
        "\n",
        "data = np.random.uniform(min_sepal_length, max_sepal_length, count_sepal_length)\n",
        "count, bins, ignored = plt.hist(data, 20, facecolor='green') \n",
        "\n",
        "plt.xlabel('X~U['+str(min_sepal_length)+','+str(max_sepal_length)+']')\n",
        "plt.ylabel('Count')\n",
        "plt.title(\"Uniform Distribution Histogram (Bin size 20)\")\n",
        "plt.grid(True)\n",
        "\n",
        "plt.show(block = False)"
      ],
      "metadata": {
        "colab": {
          "base_uri": "https://localhost:8080/",
          "height": 295
        },
        "id": "dtZWTXT1LVmx",
        "outputId": "f374a1cd-9192-49a1-c379-91d0d1cc101b"
      },
      "execution_count": null,
      "outputs": [
        {
          "output_type": "display_data",
          "data": {
            "text/plain": [
              "<Figure size 432x288 with 1 Axes>"
            ],
            "image/png": "[encoded data removed]"
          },
          "metadata": {
            "needs_background": "light"
          }
        }
      ]
    },
    {
      "cell_type": "code",
      "source": [
        "np.random.uniform??"
      ],
      "metadata": {
        "id": "Sas-G5kNRVbR"
      },
      "execution_count": null,
      "outputs": []
    },
    {
      "cell_type": "markdown",
      "source": [
        "**Poisson Distribution**"
      ],
      "metadata": {
        "id": "ZaWNDuIHLjOg"
      }
    },
    {
      "cell_type": "code",
      "source": [
        "from scipy.special import factorial\n",
        "#x = np.arange(0, 20, 0.1)\n",
        "\n",
        "x=pd.Series(df[0]).to_numpy()\n",
        "\n",
        "\n",
        "y = np.exp(-mean_sepal_length)*np.power(mean_sepal_length, x)/factorial(x)\n",
        "\n",
        "plt.figure(figsize=(15,8))\n",
        "plt.title('Poisson distribution with lambda=5', fontsize='xx-large')\n",
        "plt.plot(x, y, 'bs')\n",
        "plt.show()\n"
      ],
      "metadata": {
        "colab": {
          "base_uri": "https://localhost:8080/",
          "height": 491
        },
        "id": "YiVFS1ltLlnw",
        "outputId": "923265e7-bf2c-49fe-bacd-a57d08013b74"
      },
      "execution_count": null,
      "outputs": [
        {
          "output_type": "display_data",
          "data": {
            "text/plain": [
              "<Figure size 1080x576 with 1 Axes>"
            ],
            "image/png": "[encoded data removed]"
          },
          "metadata": {
            "needs_background": "light"
          }
        }
      ]
    },
    {
      "cell_type": "code",
      "source": [],
      "metadata": {
        "id": "6PvwHHlhcDK8"
      },
      "execution_count": null,
      "outputs": []
    },
    {
      "cell_type": "markdown",
      "source": [
        "**ON SOCIAL NETWORK ADS DATASET**"
      ],
      "metadata": {
        "id": "F2FYT3mDcDrc"
      }
    },
    {
      "cell_type": "code",
      "source": [
        "# Importing the libraries\n",
        "import numpy as np\n",
        "import matplotlib.pyplot as plt\n",
        "import pandas as pd"
      ],
      "metadata": {
        "id": "5lOTIVRScxGc"
      },
      "execution_count": null,
      "outputs": []
    },
    {
      "cell_type": "code",
      "source": [
        "# Importing the dataset\n",
        "data = pd.read_csv ('/content/drive/My Drive/ACTS Practical/Social_Network_Ads.csv')\n",
        "data.head()\n",
        "X = data.iloc[:, [2, 3]].values\n",
        "y = data.iloc[:, -1].values"
      ],
      "metadata": {
        "id": "vk7DHKrDJDMj"
      },
      "execution_count": null,
      "outputs": []
    },
    {
      "cell_type": "code",
      "source": [
        "# Splitting the dataset into the Training set and Test set\n",
        "from sklearn.model_selection import train_test_split\n",
        "X_train, X_test, y_train, y_test = train_test_split(X, y, test_size = 0.20)"
      ],
      "metadata": {
        "id": "-_tOYY8gV4Z9"
      },
      "execution_count": null,
      "outputs": []
    },
    {
      "cell_type": "code",
      "source": [
        "# Feature Scaling\n",
        "from sklearn.preprocessing import StandardScaler\n",
        "sc = StandardScaler()\n",
        "X_train = sc.fit_transform(X_train)\n",
        "X_test = sc.transform(X_test)"
      ],
      "metadata": {
        "id": "K5NFmaTxV7Oe"
      },
      "execution_count": null,
      "outputs": []
    },
    {
      "cell_type": "code",
      "source": [
        "# Training the Naive Bayes model on the Training set\n",
        "from sklearn.naive_bayes import GaussianNB\n",
        "classifier = GaussianNB()\n",
        "classifier.fit(X_train, y_train)"
      ],
      "metadata": {
        "colab": {
          "base_uri": "https://localhost:8080/"
        },
        "id": "wGhYrdrZV-oG",
        "outputId": "174e5dbc-86b1-4021-f8f5-2f93d3234e7c"
      },
      "execution_count": null,
      "outputs": [
        {
          "output_type": "execute_result",
          "data": {
            "text/plain": [
              "GaussianNB()"
            ]
          },
          "metadata": {},
          "execution_count": 39
        }
      ]
    },
    {
      "cell_type": "code",
      "source": [
        "# Predicting the Test set results\n",
        "y_pred = classifier.predict(X_test)\n",
        "print(y_pred)"
      ],
      "metadata": {
        "colab": {
          "base_uri": "https://localhost:8080/"
        },
        "id": "vmPbsxz8WBC-",
        "outputId": "e09d2d18-eaf4-46fa-9380-b867dfbabd79"
      },
      "execution_count": null,
      "outputs": [
        {
          "output_type": "stream",
          "name": "stdout",
          "text": [
            "[0 0 0 0 0 0 0 1 0 1 0 0 0 0 0 1 0 0 1 0 0 1 0 1 0 1 0 0 0 0 0 0 1 0 0 0 0\n",
            " 0 0 1 0 0 0 0 1 0 0 1 0 1 1 0 0 1 1 0 0 0 1 0 0 1 0 0 0 1 0 0 0 0 1 0 0 0\n",
            " 0 0 0 0 1 1]\n"
          ]
        }
      ]
    },
    {
      "cell_type": "code",
      "source": [
        "# Predicting probabalities \n",
        "y_pred_proba = classifier.predict_proba(X_test)\n",
        "print(y_pred_proba)"
      ],
      "metadata": {
        "colab": {
          "base_uri": "https://localhost:8080/"
        },
        "id": "8ZCctGyaWQyf",
        "outputId": "201e0900-22e9-4e3c-c82f-9dfdd716ff7c"
      },
      "execution_count": null,
      "outputs": [
        {
          "output_type": "stream",
          "name": "stdout",
          "text": [
            "[[0.89400067 0.10599933]\n",
            " [0.84165896 0.15834104]\n",
            " [0.85348304 0.14651696]\n",
            " [0.92105103 0.07894897]\n",
            " [0.89959751 0.10040249]\n",
            " [0.95576942 0.04423058]\n",
            " [0.90620397 0.09379603]\n",
            " [0.03594311 0.96405689]\n",
            " [0.98971238 0.01028762]\n",
            " [0.49678961 0.50321039]\n",
            " [0.95367413 0.04632587]\n",
            " [0.96478665 0.03521335]\n",
            " [0.860266   0.139734  ]\n",
            " [0.73041847 0.26958153]\n",
            " [0.97546232 0.02453768]\n",
            " [0.48531106 0.51468894]\n",
            " [0.79428605 0.20571395]\n",
            " [0.979477   0.020523  ]\n",
            " [0.00400315 0.99599685]\n",
            " [0.86182158 0.13817842]\n",
            " [0.89994625 0.10005375]\n",
            " [0.00488885 0.99511115]\n",
            " [0.75520429 0.24479571]\n",
            " [0.13099759 0.86900241]\n",
            " [0.97992931 0.02007069]\n",
            " [0.00455902 0.99544098]\n",
            " [0.92054458 0.07945542]\n",
            " [0.92955737 0.07044263]\n",
            " [0.84925986 0.15074014]\n",
            " [0.864263   0.135737  ]\n",
            " [0.96926322 0.03073678]\n",
            " [0.78265882 0.21734118]\n",
            " [0.10438626 0.89561374]\n",
            " [0.86207101 0.13792899]\n",
            " [0.97996064 0.02003936]\n",
            " [0.99180918 0.00819082]\n",
            " [0.97349249 0.02650751]\n",
            " [0.91339539 0.08660461]\n",
            " [0.94062349 0.05937651]\n",
            " [0.38449172 0.61550828]\n",
            " [0.92822786 0.07177214]\n",
            " [0.75433371 0.24566629]\n",
            " [0.93909828 0.06090172]\n",
            " [0.85451768 0.14548232]\n",
            " [0.16607856 0.83392144]\n",
            " [0.96878027 0.03121973]\n",
            " [0.77637359 0.22362641]\n",
            " [0.11515793 0.88484207]\n",
            " [0.97015164 0.02984836]\n",
            " [0.22333828 0.77666172]\n",
            " [0.00533382 0.99466618]\n",
            " [0.88913763 0.11086237]\n",
            " [0.89509759 0.10490241]\n",
            " [0.44118396 0.55881604]\n",
            " [0.03125151 0.96874849]\n",
            " [0.56229161 0.43770839]\n",
            " [0.92153344 0.07846656]\n",
            " [0.95465173 0.04534827]\n",
            " [0.35195677 0.64804323]\n",
            " [0.97528829 0.02471171]\n",
            " [0.90111627 0.09888373]\n",
            " [0.06112567 0.93887433]\n",
            " [0.98529653 0.01470347]\n",
            " [0.62424296 0.37575704]\n",
            " [0.98800951 0.01199049]\n",
            " [0.03113193 0.96886807]\n",
            " [0.95109771 0.04890229]\n",
            " [0.96878027 0.03121973]\n",
            " [0.78854896 0.21145104]\n",
            " [0.65888556 0.34111444]\n",
            " [0.03578433 0.96421567]\n",
            " [0.84514363 0.15485637]\n",
            " [0.98382688 0.01617312]\n",
            " [0.50466408 0.49533592]\n",
            " [0.92504581 0.07495419]\n",
            " [0.984112   0.015888  ]\n",
            " [0.59397076 0.40602924]\n",
            " [0.77302375 0.22697625]\n",
            " [0.21195796 0.78804204]\n",
            " [0.11653792 0.88346208]]\n"
          ]
        }
      ]
    },
    {
      "cell_type": "code",
      "source": [
        "# Making the Confusion Matrix\n",
        "from sklearn.metrics import confusion_matrix, accuracy_score\n",
        "ac = accuracy_score(y_test,y_pred)\n",
        "cm = confusion_matrix(y_test, y_pred)"
      ],
      "metadata": {
        "id": "g20NoN-mWDfO"
      },
      "execution_count": null,
      "outputs": []
    },
    {
      "cell_type": "code",
      "source": [
        "print(cm)\n",
        "print(ac)"
      ],
      "metadata": {
        "colab": {
          "base_uri": "https://localhost:8080/"
        },
        "id": "31efjkPTWF7X",
        "outputId": "c9a05c1b-d2ac-48e3-983c-4e3b6211c03e"
      },
      "execution_count": null,
      "outputs": [
        {
          "output_type": "stream",
          "name": "stdout",
          "text": [
            "[[55  3]\n",
            " [ 4 18]]\n",
            "0.9125\n"
          ]
        }
      ]
    }
  ]
}